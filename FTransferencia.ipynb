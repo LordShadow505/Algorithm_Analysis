{
  "cells": [
    {
      "cell_type": "markdown",
      "metadata": {
        "id": "view-in-github",
        "colab_type": "text"
      },
      "source": [
        "<a href=\"https://colab.research.google.com/github/LordShadow505/Algorithm_Analysis/blob/main/FTransferencia.ipynb\" target=\"_parent\"><img src=\"https://colab.research.google.com/assets/colab-badge.svg\" alt=\"Open In Colab\"/></a>"
      ]
    },
    {
      "cell_type": "markdown",
      "source": [
        "\n",
        "# Librerias\n",
        "\n",
        "---\n",
        "\n"
      ],
      "metadata": {
        "id": "8dNNxIPSW9J7"
      }
    },
    {
      "cell_type": "code",
      "execution_count": null,
      "metadata": {
        "id": "F4BY1V5KXlpu"
      },
      "outputs": [],
      "source": [
        "import numpy as np\n",
        "import matplotlib.pyplot as plt"
      ]
    },
    {
      "cell_type": "markdown",
      "source": [
        "Estilo para la gráfica"
      ],
      "metadata": {
        "id": "jriZvvL5hEBz"
      }
    },
    {
      "cell_type": "code",
      "source": [
        "plt.style.use(\"default\")\n"
      ],
      "metadata": {
        "id": "K7P9t97SZYdN"
      },
      "execution_count": null,
      "outputs": []
    },
    {
      "cell_type": "markdown",
      "source": [
        "# Código\n",
        "\n",
        "\n",
        "---\n",
        "\n"
      ],
      "metadata": {
        "id": "acI-ev7TXTnK"
      }
    },
    {
      "cell_type": "markdown",
      "source": [
        "Orden del numerador y denominador"
      ],
      "metadata": {
        "id": "7zTgNCyvhHiG"
      }
    },
    {
      "cell_type": "code",
      "execution_count": null,
      "metadata": {
        "id": "tyQ1CDbUacyE",
        "colab": {
          "base_uri": "https://localhost:8080/"
        },
        "outputId": "5c81a3fc-f162-4464-cadb-f02d32a1e9dd"
      },
      "outputs": [
        {
          "name": "stdout",
          "output_type": "stream",
          "text": [
            "Ingrese el orden del numerador (m): 0\n",
            "Ingrese el orden del denominador (n): 2\n"
          ]
        }
      ],
      "source": [
        "#ingresar el orden del numerador\n",
        "m = int(input(\"Ingrese el orden del numerador (m): \"))\n",
        "\n",
        "#ingresar el orden del denominador\n",
        "n = int(input(\"Ingrese el orden del denominador (n): \"))\n",
        "\n",
        "#si m o n son menores a 0, se imprime un mensaje de error\n",
        "if m < 0 or n <= 0:\n",
        "    print(\"\\nError, el orden debe ser mayor o igual a 0, y solo m puede ser 0\")\n",
        "    %reset -f\n",
        "\n",
        "if m > n: \n",
        "    print(\"\\nError, m no puede ser mayor a n\")\n",
        "    %reset -f"
      ]
    },
    {
      "cell_type": "markdown",
      "source": [
        "Ingresar los coeficientes del numerador"
      ],
      "metadata": {
        "id": "T8w1-UFKhNAL"
      }
    },
    {
      "cell_type": "code",
      "execution_count": null,
      "metadata": {
        "id": "V6F2SjEccgtA",
        "colab": {
          "base_uri": "https://localhost:8080/"
        },
        "outputId": "4dff75ec-019f-47fd-ecc2-0be6a083bc62"
      },
      "outputs": [
        {
          "name": "stdout",
          "output_type": "stream",
          "text": [
            "Ingrese los coeficientes del numerador: \n",
            "Numerador[0] = 8\n"
          ]
        }
      ],
      "source": [
        "print(\"Ingrese los coeficientes del numerador: \")\n",
        "num = np.zeros(m+1)\n",
        "for i in range(m+1):\n",
        "    num[i] = float(input(\"Numerador[\"+str(i)+\"] = \"))\n",
        "\n",
        "for i in range(m+1):\n",
        "    if num[i] < 0:\n",
        "        print(\"\\nError, los coeficientes deben ser mayores o iguales a 0\")  \n",
        "        %reset -f"
      ]
    },
    {
      "cell_type": "markdown",
      "source": [
        "Ingresar los coeficientes del denominador"
      ],
      "metadata": {
        "id": "zONGw55HhQWY"
      }
    },
    {
      "cell_type": "code",
      "source": [
        "print(\"Ingrese los coeficientes del denominador: \")\n",
        "den = np.zeros(n+1)\n",
        "for i in range(n+1):\n",
        "    den[i] = float(input(\"Denominador[\"+str(i)+\"] = \"))\n",
        "\n",
        "for i in range(n+1):\n",
        "    if den[i] < 0:\n",
        "        print(\"\\nError, los coeficientes deben ser mayores o iguales a 0\")  \n",
        "        %reset -f\n",
        "    "
      ],
      "metadata": {
        "colab": {
          "base_uri": "https://localhost:8080/"
        },
        "id": "QfmmOmuKevAL",
        "outputId": "47ae5327-7ee2-4d97-afcc-cb565092b793"
      },
      "execution_count": null,
      "outputs": [
        {
          "name": "stdout",
          "output_type": "stream",
          "text": [
            "Ingrese los coeficientes del denominador: \n",
            "Denominador[0] = 1\n",
            "Denominador[1] = 0\n",
            "Denominador[2] = 16\n"
          ]
        }
      ]
    },
    {
      "cell_type": "markdown",
      "source": [
        "Calculadora de polos"
      ],
      "metadata": {
        "id": "OfSmuyMzhU_L"
      }
    },
    {
      "cell_type": "code",
      "source": [
        "print(\"Los polos son: \")\n",
        "print(np.roots(den))\n",
        "\n",
        "print(\"Los ceros son: \")\n",
        "if np.roots(num).any() == np.inf:\n",
        "    print(\"inf\")\n",
        "else:\n",
        "    print(np.roots(num))"
      ],
      "metadata": {
        "colab": {
          "base_uri": "https://localhost:8080/"
        },
        "id": "acmdVutvfvB2",
        "outputId": "993edde0-0fcd-4fb2-a950-907b90c1cef3"
      },
      "execution_count": null,
      "outputs": [
        {
          "output_type": "stream",
          "name": "stdout",
          "text": [
            "Los polos son: \n",
            "[-0.+4.j  0.-4.j]\n",
            "Los ceros son: \n",
            "[]\n"
          ]
        }
      ]
    },
    {
      "cell_type": "markdown",
      "source": [
        "# Gráficadora\n",
        "\n",
        "---\n",
        "\n"
      ],
      "metadata": {
        "id": "b0D05CawXY93"
      }
    },
    {
      "cell_type": "code",
      "source": [
        "\n",
        "plt.figure(facecolor='#263238')\n",
        "\n",
        "ax = plt.axes()\n",
        "ax.set_facecolor(\"#000a12\")\n",
        "\n",
        "ax.tick_params(axis='x', colors='white')\n",
        "ax.tick_params(axis='y', colors='white')\n",
        "\n",
        "plt.plot(np.real(np.roots(den)), np.imag(np.roots(den)), 'o', label=\"Polos\",zorder=3,color=\"#e53935\")\n",
        "plt.plot(np.real(np.roots(num)), np.imag(np.roots(num)), 'o', label=\"Ceros\", zorder=3,color=\"#1e88e5\")\n",
        "plt.legend()\n",
        "plt.grid(color=\"#2b3238\")\n",
        "\n",
        "plt.xlabel(\"X\",color=\"#FFFFFF\")\n",
        "plt.ylabel(\"Y\",color=\"#FFFFFF\")\n",
        "plt.title(\"Diagrama de Polos y Ceros\",color=\"#FFFFFF\")\n",
        "plt.axhline(0, color=\"#bbdefb\",zorder=2,linewidth=0.8)\n",
        "plt.axvline(0, color=\"#bbdefb\",zorder=2,linewidth=0.8)\n",
        "\n",
        "for i in range(np.roots(den).size):\n",
        "    plt.annotate(str(np.round(np.roots(den)[i],5)), (np.real(np.roots(den)[i]), np.imag(np.roots(den)[i])), color=\"#FFFFFF\")\n",
        "for i in range(np.roots(num).size):\n",
        "    plt.annotate(str(np.round(np.roots(num)[i],5)), (np.real(np.roots(num)[i]), np.imag(np.roots(num)[i])), color=\"#FFFFFF\")\n",
        "\n",
        "plt.show()"
      ],
      "metadata": {
        "colab": {
          "base_uri": "https://localhost:8080/",
          "height": 472
        },
        "id": "glVuKmVtZTEY",
        "outputId": "d0594316-4558-465c-e22a-89c0bcd45f64"
      },
      "execution_count": null,
      "outputs": [
        {
          "output_type": "display_data",
          "data": {
            "text/plain": [
              "<Figure size 640x480 with 1 Axes>"
            ],
            "image/png": "[encoded data removed]"
          },
          "metadata": {}
        }
      ]
    },
    {
      "cell_type": "markdown",
      "source": [
        "Calculadora de estabilidad"
      ],
      "metadata": {
        "id": "FnBoPMbPhYe1"
      }
    },
    {
      "cell_type": "code",
      "source": [
        "if np.real(np.roots(den)).all() > 0:\n",
        "    print(\"El sistema es estable\")\n",
        "\n",
        "elif np.real(np.roots(den)).any() == 0:\n",
        "    print(\"El sistema es marginalmente estable\")\n",
        "\n",
        "else:\n",
        "    print(\"El sistema es inestable\")"
      ],
      "metadata": {
        "colab": {
          "base_uri": "https://localhost:8080/"
        },
        "id": "QKajtz4ep27o",
        "outputId": "5c5df2fa-9e74-44fc-dcd2-b45f43355414"
      },
      "execution_count": null,
      "outputs": [
        {
          "output_type": "stream",
          "name": "stdout",
          "text": [
            "El sistema es marginalmente estable\n"
          ]
        }
      ]
    }
  ],
  "metadata": {
    "colab": {
      "provenance": [],
      "collapsed_sections": [],
      "authorship_tag": "ABX9TyPS/BqziX3RjvH8BnRsCybW",
      "include_colab_link": true
    },
    "kernelspec": {
      "display_name": "Python 3",
      "name": "python3"
    },
    "language_info": {
      "name": "python"
    }
  },
  "nbformat": 4,
  "nbformat_minor": 0
}